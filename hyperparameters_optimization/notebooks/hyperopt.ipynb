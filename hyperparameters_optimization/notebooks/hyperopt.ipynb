{
 "cells": [
  {
   "cell_type": "markdown",
   "metadata": {
    "toc": true
   },
   "source": [
    "<h1>Table of Contents<span class=\"tocSkip\"></span></h1>\n",
    "<div class=\"toc\"><ul class=\"toc-item\"><li><span><a href=\"#Spark-MLlib-Tuning\" data-toc-modified-id=\"Spark-MLlib-Tuning-1\"><span class=\"toc-item-num\">1&nbsp;&nbsp;</span><a href=\"https://spark.apache.org/docs/latest/ml-tuning.html\" target=\"_blank\">Spark MLlib Tuning</a></a></span></li><li><span><a href=\"#Hyperopt\" data-toc-modified-id=\"Hyperopt-2\"><span class=\"toc-item-num\">2&nbsp;&nbsp;</span><a href=\"https://github.com/hyperopt/hyperopt\" target=\"_blank\">Hyperopt</a></a></span><ul class=\"toc-item\"><li><span><a href=\"#XGBoost-Tuning\" data-toc-modified-id=\"XGBoost-Tuning-2.1\"><span class=\"toc-item-num\">2.1&nbsp;&nbsp;</span><a href=\"https://www.analyticsvidhya.com/blog/2016/03/complete-guide-parameter-tuning-xgboost-with-codes-python/\" target=\"_blank\">XGBoost Tuning</a></a></span><ul class=\"toc-item\"><li><span><a href=\"#Objective-function\" data-toc-modified-id=\"Objective-function-2.1.1\"><span class=\"toc-item-num\">2.1.1&nbsp;&nbsp;</span>Objective function</a></span></li><li><span><a href=\"#Tune-number-of-trees\" data-toc-modified-id=\"Tune-number-of-trees-2.1.2\"><span class=\"toc-item-num\">2.1.2&nbsp;&nbsp;</span>Tune number of trees</a></span></li><li><span><a href=\"#Tune-tree-specific-parameters\" data-toc-modified-id=\"Tune-tree-specific-parameters-2.1.3\"><span class=\"toc-item-num\">2.1.3&nbsp;&nbsp;</span>Tune tree-specific parameters</a></span><ul class=\"toc-item\"><li><span><a href=\"#Tune-max_depth,-min_child_weight\" data-toc-modified-id=\"Tune-max_depth,-min_child_weight-2.1.3.1\"><span class=\"toc-item-num\">2.1.3.1&nbsp;&nbsp;</span>Tune max_depth, min_child_weight</a></span></li><li><span><a href=\"#Tune-gamma\" data-toc-modified-id=\"Tune-gamma-2.1.3.2\"><span class=\"toc-item-num\">2.1.3.2&nbsp;&nbsp;</span>Tune gamma</a></span></li><li><span><a href=\"#Tune-subsample,-colsample_bytree\" data-toc-modified-id=\"Tune-subsample,-colsample_bytree-2.1.3.3\"><span class=\"toc-item-num\">2.1.3.3&nbsp;&nbsp;</span>Tune subsample, colsample_bytree</a></span></li></ul></li><li><span><a href=\"#Tune-regularization-parameters\" data-toc-modified-id=\"Tune-regularization-parameters-2.1.4\"><span class=\"toc-item-num\">2.1.4&nbsp;&nbsp;</span>Tune regularization parameters</a></span></li><li><span><a href=\"#Lower-the-learning-rate-and-decide-the-optimal-parameters\" data-toc-modified-id=\"Lower-the-learning-rate-and-decide-the-optimal-parameters-2.1.5\"><span class=\"toc-item-num\">2.1.5&nbsp;&nbsp;</span>Lower the learning rate and decide the optimal parameters</a></span></li></ul></li><li><span><a href=\"#LogisticRegression-Tuning\" data-toc-modified-id=\"LogisticRegression-Tuning-2.2\"><span class=\"toc-item-num\">2.2&nbsp;&nbsp;</span>LogisticRegression Tuning</a></span></li><li><span><a href=\"#Optional-MongoTrials\" data-toc-modified-id=\"Optional-MongoTrials-2.3\"><span class=\"toc-item-num\">2.3&nbsp;&nbsp;</span>Optional <a href=\"https://hyperopt.github.io/hyperopt/scaleout/mongodb/\" target=\"_blank\">MongoTrials</a></a></span><ul class=\"toc-item\"><li><span><a href=\"#XGBoost-Tuning\" data-toc-modified-id=\"XGBoost-Tuning-2.3.1\"><span class=\"toc-item-num\">2.3.1&nbsp;&nbsp;</span>XGBoost Tuning</a></span></li></ul></li></ul></li><li><span><a href=\"#Results\" data-toc-modified-id=\"Results-3\"><span class=\"toc-item-num\">3&nbsp;&nbsp;</span>Results</a></span></li></ul></div>"
   ]
  },
  {
   "cell_type": "markdown",
   "metadata": {},
   "source": [
    "Продолжаем работать над задачей CTR-prediction с использованием датасета от Criteo.\n",
    "\n",
    "Описание задачи и данных можно посмотреть в notebook'e предыдущей практики (`sgd_logreg_nn/notebooks/ctr_prediction_mllib.ipynb`)."
   ]
  },
  {
   "cell_type": "code",
   "execution_count": 4,
   "metadata": {},
   "outputs": [],
   "source": [
    "%matplotlib inline\n",
    "%config InlineBackend.figure_format ='retina'\n",
    "\n",
    "import os\n",
    "import sys\n",
    "import glob\n",
    "import pickle\n",
    "import seaborn as sns\n",
    "import matplotlib.pyplot as plt\n",
    "import numpy as np\n",
    "\n",
    "import pyspark\n",
    "import pyspark.sql.functions as F\n",
    "from pyspark.conf import SparkConf\n",
    "from pyspark.sql import SQLContext\n",
    "from pyspark.sql import SparkSession\n",
    "from pyspark.sql import Row\n",
    "from pyspark.ml.classification import LogisticRegression\n",
    "\n",
    "COMMON_PATH = '/workspace/common'\n",
    "\n",
    "sys.path.append(os.path.join(COMMON_PATH, 'utils'))\n",
    "\n",
    "os.environ['PYSPARK_SUBMIT_ARGS'] = \"\"\"\n",
    "--jars {common}/xgboost4j-spark-0.72.jar,{common}/xgboost4j-0.72.jar\n",
    "--py-files {common}/sparkxgb.zip pyspark-shell\n",
    "\"\"\".format(common=COMMON_PATH).replace('\\n', ' ')\n",
    "\n",
    "spark = SparkSession \\\n",
    "    .builder \\\n",
    "    .master('local[*]') \\\n",
    "    .appName(\"spark_sql_examples\") \\\n",
    "    .config(\"spark.executor.memory\", \"6g\") \\\n",
    "    .getOrCreate()\n",
    "\n",
    "sc = spark.sparkContext\n",
    "sqlContext = SQLContext(sc)\n",
    "\n",
    "from metrics import rocauc, logloss, ne, get_ate\n",
    "from processing import split_by_col\n",
    "\n",
    "from sparkxgb.xgboost import *"
   ]
  },
  {
   "cell_type": "code",
   "execution_count": 5,
   "metadata": {},
   "outputs": [],
   "source": [
    "DATA_PATH = '/workspace/data/criteo'\n",
    "\n",
    "TRAIN_PATH = os.path.join(DATA_PATH, 'train.csv')"
   ]
  },
  {
   "cell_type": "code",
   "execution_count": 6,
   "metadata": {},
   "outputs": [],
   "source": [
    "df = sqlContext.read.format(\"com.databricks.spark.csv\") \\\n",
    "    .option(\"delimiter\", \",\") \\\n",
    "    .option(\"header\", \"true\") \\\n",
    "    .option(\"inferSchema\", \"true\") \\\n",
    "    .load('file:///' + TRAIN_PATH)"
   ]
  },
  {
   "cell_type": "markdown",
   "metadata": {},
   "source": [
    "**Remark** Необязательно использовать половину датасета и всего две категориальные переменные. Можно использовать больше данных, если вам позволяет ваша конфигурация"
   ]
  },
  {
   "cell_type": "code",
   "execution_count": 7,
   "metadata": {},
   "outputs": [],
   "source": [
    "df = df.sample(False, 0.5)"
   ]
  },
  {
   "cell_type": "code",
   "execution_count": 8,
   "metadata": {},
   "outputs": [
    {
     "data": {
      "text/plain": [
       "(13, 2)"
      ]
     },
     "execution_count": 8,
     "metadata": {},
     "output_type": "execute_result"
    }
   ],
   "source": [
    "num_columns = ['_c{}'.format(i) for i in range(1, 14)]\n",
    "cat_columns = ['_c{}'.format(i) for i in range(14, 40)][:2]\n",
    "len(num_columns), len(cat_columns)"
   ]
  },
  {
   "cell_type": "code",
   "execution_count": 9,
   "metadata": {},
   "outputs": [],
   "source": [
    "df = df.fillna(0, subset=num_columns)"
   ]
  },
  {
   "cell_type": "code",
   "execution_count": 10,
   "metadata": {},
   "outputs": [],
   "source": [
    "from pyspark.ml import PipelineModel\n",
    "\n",
    "\n",
    "pipeline_model = PipelineModel.load(os.path.join(DATA_PATH, 'pipeline_model'))"
   ]
  },
  {
   "cell_type": "code",
   "execution_count": 11,
   "metadata": {},
   "outputs": [
    {
     "data": {
      "text/plain": [
       "1832893"
      ]
     },
     "execution_count": 11,
     "metadata": {},
     "output_type": "execute_result"
    }
   ],
   "source": [
    "df = pipeline_model \\\n",
    "    .transform(df) \\\n",
    "    .select(F.col('_c0').alias('label'), 'features', 'id') \\\n",
    "    .cache()\n",
    "\n",
    "df.count()"
   ]
  },
  {
   "cell_type": "code",
   "execution_count": 12,
   "metadata": {},
   "outputs": [],
   "source": [
    "train_df, val_df, test_df = split_by_col(df, 'id', [0.8, 0.1, 0.1])"
   ]
  },
  {
   "cell_type": "markdown",
   "metadata": {},
   "source": [
    "# [Spark MLlib Tuning](https://spark.apache.org/docs/latest/ml-tuning.html)\n",
    "\n",
    "У имеющегося в Spark'e метода HPO есть два существенных недостатка, которые делают его мало пригодным в контексте нашей задачи:\n",
    "\n",
    "1. `ParamGridBuilder` - поиск по сетке\n",
    "2. `TrainValidationSplit` - делит данные случайнм образом"
   ]
  },
  {
   "cell_type": "markdown",
   "metadata": {},
   "source": [
    "# [Hyperopt](https://github.com/hyperopt/hyperopt)\n",
    "\n",
    "Установим `hyperopt`"
   ]
  },
  {
   "cell_type": "code",
   "execution_count": 13,
   "metadata": {},
   "outputs": [
    {
     "name": "stdout",
     "output_type": "stream",
     "text": [
      "Requirement already satisfied: hyperopt in /usr/lib/python3.5/site-packages (0.2.3)\n",
      "Requirement already satisfied: tqdm in /usr/lib/python3.5/site-packages (from hyperopt) (4.43.0)\n",
      "Requirement already satisfied: numpy in /usr/lib64/python3.5/site-packages (from hyperopt) (1.17.2)\n",
      "Requirement already satisfied: six in /usr/lib/python3.5/site-packages (from hyperopt) (1.14.0)\n",
      "Requirement already satisfied: future in /usr/lib/python3.5/site-packages (from hyperopt) (0.18.2)\n",
      "Requirement already satisfied: scipy in /usr/lib64/python3.5/site-packages (from hyperopt) (1.3.3)\n",
      "Requirement already satisfied: cloudpickle in /usr/lib/python3.5/site-packages (from hyperopt) (1.3.0)\n",
      "Requirement already satisfied: networkx==2.2 in /usr/lib/python3.5/site-packages (from hyperopt) (2.2)\n",
      "Requirement already satisfied: decorator>=4.3.0 in /usr/lib/python3.5/site-packages (from networkx==2.2->hyperopt) (4.4.1)\n"
     ]
    }
   ],
   "source": [
    "!pip3.5 install hyperopt"
   ]
  },
  {
   "cell_type": "markdown",
   "metadata": {},
   "source": [
    "## [XGBoost Tuning](https://www.analyticsvidhya.com/blog/2016/03/complete-guide-parameter-tuning-xgboost-with-codes-python/)\n",
    "\n",
    "> [Notes on Parameter Tuning](https://xgboost.readthedocs.io/en/latest/tutorials/param_tuning.html)\n",
    "\n",
    "### Objective function"
   ]
  },
  {
   "cell_type": "code",
   "execution_count": 14,
   "metadata": {},
   "outputs": [],
   "source": [
    "from hyperopt import fmin, tpe, hp, Trials, STATUS_OK\n",
    "import scipy.stats as st\n",
    "\n",
    "\n",
    "def objective(space):\n",
    "    estimator = XGBoostEstimator(**space)\n",
    "    print('SPACE:', estimator._input_kwargs_processed())\n",
    "    success = False\n",
    "    attempts = 0\n",
    "    model = None\n",
    "    while not success and attempts < 2:\n",
    "        try:\n",
    "            model = estimator.fit(train_df)\n",
    "            success = True\n",
    "        except Exception as e:\n",
    "            attempts += 1\n",
    "            print(e)\n",
    "            print('Try again')\n",
    "        \n",
    "    log_loss = logloss(model, val_df, probabilities_col='probabilities')\n",
    "    roc_auc = rocauc(model, val_df, probabilities_col='probabilities')\n",
    "    \n",
    "    print('LOG-LOSS: {}, ROC-AUC: {}'.format(log_loss, roc_auc))\n",
    "\n",
    "    return {'loss': log_loss, 'rocauc': roc_auc, 'status': STATUS_OK }"
   ]
  },
  {
   "cell_type": "code",
   "execution_count": 15,
   "metadata": {},
   "outputs": [],
   "source": [
    "static_params = {\n",
    "    'featuresCol': \"features\", \n",
    "    'labelCol': \"label\", \n",
    "    'predictionCol': \"prediction\",\n",
    "    'eval_metric': 'logloss',\n",
    "    'objective': 'binary:logistic',\n",
    "    'nthread': 1,\n",
    "    'silent': 0,\n",
    "    'nworkers': 1\n",
    "}"
   ]
  },
  {
   "cell_type": "markdown",
   "metadata": {},
   "source": [
    "Fix baseline parameters and train baseline model"
   ]
  },
  {
   "cell_type": "code",
   "execution_count": 16,
   "metadata": {},
   "outputs": [],
   "source": [
    "CONTROL_NAME = 'xgb baseline'\n",
    "\n",
    "baseline_params = {\n",
    "    'colsample_bytree': 0.9,\n",
    "    'eta': 0.15,\n",
    "    'gamma': 0.9,\n",
    "    'max_depth': 6,\n",
    "    'min_child_weight': 50.0,\n",
    "    'subsample': 0.9,\n",
    "    'num_round': 20\n",
    "}\n",
    "\n",
    "baseline_model = XGBoostEstimator(**{**static_params, **baseline_params}).fit(train_df)"
   ]
  },
  {
   "cell_type": "code",
   "execution_count": 17,
   "metadata": {},
   "outputs": [
    {
     "data": {
      "text/plain": [
       "0.726496408208172"
      ]
     },
     "execution_count": 17,
     "metadata": {},
     "output_type": "execute_result"
    }
   ],
   "source": [
    "baseline_rocauc = rocauc(baseline_model, val_df, probabilities_col='probabilities')\n",
    "baseline_rocauc"
   ]
  },
  {
   "cell_type": "code",
   "execution_count": 18,
   "metadata": {},
   "outputs": [],
   "source": [
    "all_metrics = {}"
   ]
  },
  {
   "cell_type": "code",
   "execution_count": 19,
   "metadata": {},
   "outputs": [],
   "source": [
    "baseline_test_metrics = {\n",
    "    'logloss': logloss(baseline_model, test_df, probabilities_col='probabilities'),\n",
    "    'rocauc': rocauc(baseline_model, test_df, probabilities_col='probabilities')\n",
    "}\n",
    "\n",
    "all_metrics[CONTROL_NAME] = baseline_test_metrics"
   ]
  },
  {
   "cell_type": "markdown",
   "metadata": {},
   "source": [
    "### Tune number of trees\n",
    "\n",
    "> Choose a relatively high learning rate. Generally a learning rate of 0.1 works but somewhere between 0.05 to 0.3 should work for different problems. Determine the optimum number of trees for this learning rate."
   ]
  },
  {
   "cell_type": "code",
   "execution_count": 20,
   "metadata": {
    "scrolled": true
   },
   "outputs": [
    {
     "name": "stdout",
     "output_type": "stream",
     "text": [
      "SPACE:                                                \n",
      "{'eval_metric': 'logloss', 'labelCol': 'label', 'eta': 0.05, 'colsample_bytree': 0.9, 'silent': 0, 'gamma': 0.9, 'max_depth': 6, 'subsample': 0.9, 'min_child_weight': 50.0, 'nworkers': 1, 'num_round': 10, 'featuresCol': 'features', 'predictionCol': 'prediction', 'objective': 'binary:logistic', 'nthread': 1}\n",
      "LOG-LOSS: 0.5883944275615641, ROC-AUC: 0.7181447424350922\n",
      "SPACE:                                                                          \n",
      "{'eval_metric': 'logloss', 'labelCol': 'label', 'eta': 0.15, 'colsample_bytree': 0.9, 'silent': 0, 'gamma': 0.9, 'max_depth': 6, 'subsample': 0.9, 'min_child_weight': 50.0, 'nworkers': 1, 'num_round': 40, 'featuresCol': 'features', 'predictionCol': 'prediction', 'objective': 'binary:logistic', 'nthread': 1}\n",
      "LOG-LOSS: 0.5064321632924346, ROC-AUC: 0.7315063196507958                       \n",
      "SPACE:                                                                          \n",
      "{'eval_metric': 'logloss', 'labelCol': 'label', 'eta': 0.15, 'colsample_bytree': 0.9, 'silent': 0, 'gamma': 0.9, 'max_depth': 6, 'subsample': 0.9, 'min_child_weight': 50.0, 'nworkers': 1, 'num_round': 10, 'featuresCol': 'features', 'predictionCol': 'prediction', 'objective': 'binary:logistic', 'nthread': 1}\n",
      "LOG-LOSS: 0.5247724761317191, ROC-AUC: 0.7216695053605742                       \n",
      "SPACE:                                                                          \n",
      "{'eval_metric': 'logloss', 'labelCol': 'label', 'eta': 0.3, 'colsample_bytree': 0.9, 'silent': 0, 'gamma': 0.9, 'max_depth': 6, 'subsample': 0.9, 'min_child_weight': 50.0, 'nworkers': 1, 'num_round': 10, 'featuresCol': 'features', 'predictionCol': 'prediction', 'objective': 'binary:logistic', 'nthread': 1}\n",
      "LOG-LOSS: 0.5107004721358983, ROC-AUC: 0.7256872085843683                       \n",
      "SPACE:                                                                          \n",
      "{'eval_metric': 'logloss', 'labelCol': 'label', 'eta': 0.2, 'colsample_bytree': 0.9, 'silent': 0, 'gamma': 0.9, 'max_depth': 6, 'subsample': 0.9, 'min_child_weight': 50.0, 'nworkers': 1, 'num_round': 40, 'featuresCol': 'features', 'predictionCol': 'prediction', 'objective': 'binary:logistic', 'nthread': 1}\n",
      "LOG-LOSS: 0.5052563726329544, ROC-AUC: 0.7329812259756665                       \n",
      "SPACE:                                                                          \n",
      "{'eval_metric': 'logloss', 'labelCol': 'label', 'eta': 0.05, 'colsample_bytree': 0.9, 'silent': 0, 'gamma': 0.9, 'max_depth': 6, 'subsample': 0.9, 'min_child_weight': 50.0, 'nworkers': 1, 'num_round': 40, 'featuresCol': 'features', 'predictionCol': 'prediction', 'objective': 'binary:logistic', 'nthread': 1}\n",
      "LOG-LOSS: 0.5173451206621533, ROC-AUC: 0.7236252513887874                       \n",
      "SPACE:                                                                          \n",
      "{'eval_metric': 'logloss', 'labelCol': 'label', 'eta': 0.3, 'colsample_bytree': 0.9, 'silent': 0, 'gamma': 0.9, 'max_depth': 6, 'subsample': 0.9, 'min_child_weight': 50.0, 'nworkers': 1, 'num_round': 40, 'featuresCol': 'features', 'predictionCol': 'prediction', 'objective': 'binary:logistic', 'nthread': 1}\n",
      "LOG-LOSS: 0.5039708889316575, ROC-AUC: 0.7348646317866533                       \n",
      "SPACE:                                                                          \n",
      "{'eval_metric': 'logloss', 'labelCol': 'label', 'eta': 0.05, 'colsample_bytree': 0.9, 'silent': 0, 'gamma': 0.9, 'max_depth': 6, 'subsample': 0.9, 'min_child_weight': 50.0, 'nworkers': 1, 'num_round': 20, 'featuresCol': 'features', 'predictionCol': 'prediction', 'objective': 'binary:logistic', 'nthread': 1}\n",
      "LOG-LOSS: 0.5452523309016716, ROC-AUC: 0.7200819756438165                       \n",
      "SPACE:                                                                          \n",
      "{'eval_metric': 'logloss', 'labelCol': 'label', 'eta': 0.3, 'colsample_bytree': 0.9, 'silent': 0, 'gamma': 0.9, 'max_depth': 6, 'subsample': 0.9, 'min_child_weight': 50.0, 'nworkers': 1, 'num_round': 40, 'featuresCol': 'features', 'predictionCol': 'prediction', 'objective': 'binary:logistic', 'nthread': 1}\n",
      "LOG-LOSS: 0.5039708889316575, ROC-AUC: 0.7348646317866506                       \n",
      "SPACE:                                                                          \n",
      "{'eval_metric': 'logloss', 'labelCol': 'label', 'eta': 0.15, 'colsample_bytree': 0.9, 'silent': 0, 'gamma': 0.9, 'max_depth': 6, 'subsample': 0.9, 'min_child_weight': 50.0, 'nworkers': 1, 'num_round': 10, 'featuresCol': 'features', 'predictionCol': 'prediction', 'objective': 'binary:logistic', 'nthread': 1}\n",
      "LOG-LOSS: 0.5247724761317191, ROC-AUC: 0.7216695053605737                       \n",
      "SPACE:                                                                           \n",
      "{'eval_metric': 'logloss', 'labelCol': 'label', 'eta': 0.2, 'colsample_bytree': 0.9, 'silent': 0, 'gamma': 0.9, 'max_depth': 6, 'subsample': 0.9, 'min_child_weight': 50.0, 'nworkers': 1, 'num_round': 40, 'featuresCol': 'features', 'predictionCol': 'prediction', 'objective': 'binary:logistic', 'nthread': 1}\n",
      "LOG-LOSS: 0.5052563726329544, ROC-AUC: 0.7329812259756661                        \n",
      "SPACE:                                                                           \n",
      "{'eval_metric': 'logloss', 'labelCol': 'label', 'eta': 0.15, 'colsample_bytree': 0.9, 'silent': 0, 'gamma': 0.9, 'max_depth': 6, 'subsample': 0.9, 'min_child_weight': 50.0, 'nworkers': 1, 'num_round': 10, 'featuresCol': 'features', 'predictionCol': 'prediction', 'objective': 'binary:logistic', 'nthread': 1}\n",
      "LOG-LOSS: 0.5247724761317191, ROC-AUC: 0.7216695053605732                        \n",
      "SPACE:                                                                           \n",
      "{'eval_metric': 'logloss', 'labelCol': 'label', 'eta': 0.05, 'colsample_bytree': 0.9, 'silent': 0, 'gamma': 0.9, 'max_depth': 6, 'subsample': 0.9, 'min_child_weight': 50.0, 'nworkers': 1, 'num_round': 40, 'featuresCol': 'features', 'predictionCol': 'prediction', 'objective': 'binary:logistic', 'nthread': 1}\n",
      "LOG-LOSS: 0.5173451206621533, ROC-AUC: 0.723625251388786                         \n",
      "SPACE:                                                                           \n",
      "{'eval_metric': 'logloss', 'labelCol': 'label', 'eta': 0.15, 'colsample_bytree': 0.9, 'silent': 0, 'gamma': 0.9, 'max_depth': 6, 'subsample': 0.9, 'min_child_weight': 50.0, 'nworkers': 1, 'num_round': 20, 'featuresCol': 'features', 'predictionCol': 'prediction', 'objective': 'binary:logistic', 'nthread': 1}\n",
      "LOG-LOSS: 0.5104839785477241, ROC-AUC: 0.7264964082081731                        \n",
      "SPACE:                                                                           \n",
      "{'eval_metric': 'logloss', 'labelCol': 'label', 'eta': 0.1, 'colsample_bytree': 0.9, 'silent': 0, 'gamma': 0.9, 'max_depth': 6, 'subsample': 0.9, 'min_child_weight': 50.0, 'nworkers': 1, 'num_round': 40, 'featuresCol': 'features', 'predictionCol': 'prediction', 'objective': 'binary:logistic', 'nthread': 1}\n",
      "LOG-LOSS: 0.5082954014266806, ROC-AUC: 0.7289455340202649                        \n",
      "SPACE:                                                                           \n",
      "{'eval_metric': 'logloss', 'labelCol': 'label', 'eta': 0.15, 'colsample_bytree': 0.9, 'silent': 0, 'gamma': 0.9, 'max_depth': 6, 'subsample': 0.9, 'min_child_weight': 50.0, 'nworkers': 1, 'num_round': 20, 'featuresCol': 'features', 'predictionCol': 'prediction', 'objective': 'binary:logistic', 'nthread': 1}\n",
      "LOG-LOSS: 0.5104839785477241, ROC-AUC: 0.7264964082081751                        \n",
      "SPACE:                                                                           \n",
      "{'eval_metric': 'logloss', 'labelCol': 'label', 'eta': 0.15, 'colsample_bytree': 0.9, 'silent': 0, 'gamma': 0.9, 'max_depth': 6, 'subsample': 0.9, 'min_child_weight': 50.0, 'nworkers': 1, 'num_round': 100, 'featuresCol': 'features', 'predictionCol': 'prediction', 'objective': 'binary:logistic', 'nthread': 1}\n",
      "LOG-LOSS: 0.5028447245905553, ROC-AUC: 0.7365532626599379                        \n",
      "SPACE:                                                                            \n",
      "{'eval_metric': 'logloss', 'labelCol': 'label', 'eta': 0.3, 'colsample_bytree': 0.9, 'silent': 0, 'gamma': 0.9, 'max_depth': 6, 'subsample': 0.9, 'min_child_weight': 50.0, 'nworkers': 1, 'num_round': 100, 'featuresCol': 'features', 'predictionCol': 'prediction', 'objective': 'binary:logistic', 'nthread': 1}\n"
     ]
    },
    {
     "name": "stdout",
     "output_type": "stream",
     "text": [
      "LOG-LOSS: 0.500978735342114, ROC-AUC: 0.7389325937145648                          \n",
      "SPACE:                                                                            \n",
      "{'eval_metric': 'logloss', 'labelCol': 'label', 'eta': 0.2, 'colsample_bytree': 0.9, 'silent': 0, 'gamma': 0.9, 'max_depth': 6, 'subsample': 0.9, 'min_child_weight': 50.0, 'nworkers': 1, 'num_round': 20, 'featuresCol': 'features', 'predictionCol': 'prediction', 'objective': 'binary:logistic', 'nthread': 1}\n",
      "LOG-LOSS: 0.508414049995408, ROC-AUC: 0.7284819689710851                         \n",
      "SPACE:                                                                           \n",
      "{'eval_metric': 'logloss', 'labelCol': 'label', 'eta': 0.2, 'colsample_bytree': 0.9, 'silent': 0, 'gamma': 0.9, 'max_depth': 6, 'subsample': 0.9, 'min_child_weight': 50.0, 'nworkers': 1, 'num_round': 100, 'featuresCol': 'features', 'predictionCol': 'prediction', 'objective': 'binary:logistic', 'nthread': 1}\n",
      "LOG-LOSS: 0.501991921677937, ROC-AUC: 0.7375948663159055                         \n",
      "100%|██████████| 20/20 [27:31<00:00, 82.57s/trial, best loss: 0.500978735342114] \n",
      "CPU times: user 2.72 s, sys: 439 ms, total: 3.16 s\n",
      "Wall time: 27min 31s\n"
     ]
    }
   ],
   "source": [
    "%%time\n",
    "\n",
    "num_round_choice = [10, 20, 40, 100]\n",
    "eta_choice = [0.05, 0.10, 0.15, 0.20, 0.30]\n",
    "\n",
    "space = {\n",
    "    # Optimize\n",
    "    'num_round': hp.choice('num_round', num_round_choice),\n",
    "    'eta': hp.choice('eta', eta_choice),\n",
    "    \n",
    "    # Fixed    \n",
    "    'max_depth': baseline_params['max_depth'],\n",
    "    'min_child_weight': baseline_params['min_child_weight'],\n",
    "    'subsample': baseline_params['subsample'],\n",
    "    'gamma': baseline_params['gamma'],\n",
    "    'colsample_bytree': baseline_params['colsample_bytree'],\n",
    "    \n",
    "    **static_params\n",
    "}\n",
    "\n",
    "\n",
    "trials = Trials()\n",
    "best = fmin(fn=objective,\n",
    "            space=space,\n",
    "            algo=tpe.suggest,\n",
    "            max_evals=20,\n",
    "            trials=trials)"
   ]
  },
  {
   "cell_type": "code",
   "execution_count": 21,
   "metadata": {},
   "outputs": [
    {
     "data": {
      "text/plain": [
       "{'eta': 4, 'num_round': 3}"
      ]
     },
     "execution_count": 21,
     "metadata": {},
     "output_type": "execute_result"
    }
   ],
   "source": [
    "best"
   ]
  },
  {
   "cell_type": "markdown",
   "metadata": {},
   "source": [
    "Обратите внимание на то, что в случае с `hp.choice` в переменной `best` хранится не конкретное значение гиперпараметра, а его индекс из списка, например, `num_round_choice`"
   ]
  },
  {
   "cell_type": "code",
   "execution_count": 22,
   "metadata": {},
   "outputs": [],
   "source": [
    "eta = eta_choice[best['eta']]  # change me!\n",
    "num_round = num_round_choice[best['num_round']]  # change me!"
   ]
  },
  {
   "cell_type": "code",
   "execution_count": 23,
   "metadata": {},
   "outputs": [
    {
     "data": {
      "text/plain": [
       "(0.3, 100)"
      ]
     },
     "execution_count": 23,
     "metadata": {},
     "output_type": "execute_result"
    }
   ],
   "source": [
    "eta, num_round"
   ]
  },
  {
   "cell_type": "code",
   "execution_count": 24,
   "metadata": {},
   "outputs": [],
   "source": [
    "# eta, num_round = (0.5, 100)"
   ]
  },
  {
   "cell_type": "markdown",
   "metadata": {},
   "source": [
    "### Tune tree-specific parameters\n",
    "\n",
    "> Tune tree-specific parameters ( max_depth, min_child_weight, gamma, subsample, colsample_bytree) for decided learning rate and number of trees. Note that we can choose different parameters to define a tree and I’ll take up an example here."
   ]
  },
  {
   "cell_type": "markdown",
   "metadata": {},
   "source": [
    "#### Tune max_depth, min_child_weight"
   ]
  },
  {
   "cell_type": "markdown",
   "metadata": {},
   "source": [
    "#### Tune gamma"
   ]
  },
  {
   "cell_type": "markdown",
   "metadata": {},
   "source": [
    "#### Tune subsample, colsample_bytree"
   ]
  },
  {
   "cell_type": "code",
   "execution_count": 25,
   "metadata": {},
   "outputs": [],
   "source": [
    "static_params = {\n",
    "    'featuresCol': \"features\", \n",
    "    'labelCol': \"label\", \n",
    "    'predictionCol': \"prediction\",\n",
    "    'eval_metric': 'logloss',\n",
    "    'objective': 'binary:logistic',\n",
    "    'nthread': 1,\n",
    "    'silent': 0,\n",
    "    'nworkers': 4 # changed\n",
    "}"
   ]
  },
  {
   "cell_type": "code",
   "execution_count": 26,
   "metadata": {},
   "outputs": [],
   "source": [
    "max_depth_choice = [3, 5, 8]\n",
    "min_child_weight_choice = [10., 30., 50.]\n",
    "subsample_choice = [0.4, 0.6, 0.8, 1.0]\n",
    "gamma_choice = [0.01, 0.3, 0.6, 0.9, 1.5]\n",
    "colsample_bytree_choice = [0.4, 0.6, 0.8, 1.0]\n",
    "\n",
    "space = {\n",
    "    # Fixed\n",
    "    'num_round': num_round,\n",
    "    'eta': eta,\n",
    "    \n",
    "    # Optimize    \n",
    "    'max_depth': hp.choice('max_depth', max_depth_choice),\n",
    "#     'max_depth': baseline_params['max_depth'],\n",
    "    'min_child_weight': hp.choice('min_child_weight', min_child_weight_choice),\n",
    "#     'min_child_weight': baseline_params['min_child_weight'],\n",
    "    'subsample': hp.choice('subsample', subsample_choice),\n",
    "    'gamma': hp.choice('gamma', gamma_choice),\n",
    "    'colsample_bytree': hp.choice('colsample_bytree', colsample_bytree_choice),\n",
    "    \n",
    "    **static_params\n",
    "}\n",
    "\n"
   ]
  },
  {
   "cell_type": "code",
   "execution_count": 27,
   "metadata": {},
   "outputs": [
    {
     "name": "stdout",
     "output_type": "stream",
     "text": [
      "SPACE:                                                \n",
      "{'eval_metric': 'logloss', 'labelCol': 'label', 'eta': 0.3, 'colsample_bytree': 0.6, 'silent': 0, 'gamma': 0.6, 'max_depth': 8, 'subsample': 0.8, 'min_child_weight': 50.0, 'nworkers': 4, 'num_round': 100, 'featuresCol': 'features', 'predictionCol': 'prediction', 'objective': 'binary:logistic', 'nthread': 1}\n",
      "LOG-LOSS: 0.5001380929596146, ROC-AUC: 0.7400881270560927\n",
      "SPACE:                                                                          \n",
      "{'eval_metric': 'logloss', 'labelCol': 'label', 'eta': 0.3, 'colsample_bytree': 0.6, 'silent': 0, 'gamma': 0.01, 'max_depth': 3, 'subsample': 0.4, 'min_child_weight': 10.0, 'nworkers': 4, 'num_round': 100, 'featuresCol': 'features', 'predictionCol': 'prediction', 'objective': 'binary:logistic', 'nthread': 1}\n",
      "LOG-LOSS: 0.5053556260433809, ROC-AUC: 0.7329379070481008                       \n",
      "SPACE:                                                                          \n",
      "{'eval_metric': 'logloss', 'labelCol': 'label', 'eta': 0.3, 'colsample_bytree': 0.6, 'silent': 0, 'gamma': 0.9, 'max_depth': 8, 'subsample': 1.0, 'min_child_weight': 10.0, 'nworkers': 4, 'num_round': 100, 'featuresCol': 'features', 'predictionCol': 'prediction', 'objective': 'binary:logistic', 'nthread': 1}\n",
      "LOG-LOSS: 0.5000758308822811, ROC-AUC: 0.7400155077820798                       \n",
      "SPACE:                                                                          \n",
      "{'eval_metric': 'logloss', 'labelCol': 'label', 'eta': 0.3, 'colsample_bytree': 0.8, 'silent': 0, 'gamma': 0.3, 'max_depth': 3, 'subsample': 0.6, 'min_child_weight': 50.0, 'nworkers': 4, 'num_round': 100, 'featuresCol': 'features', 'predictionCol': 'prediction', 'objective': 'binary:logistic', 'nthread': 1}\n",
      "LOG-LOSS: 0.5052682576525488, ROC-AUC: 0.7329960403112598                       \n",
      "SPACE:                                                                          \n",
      "{'eval_metric': 'logloss', 'labelCol': 'label', 'eta': 0.3, 'colsample_bytree': 0.4, 'silent': 0, 'gamma': 0.01, 'max_depth': 3, 'subsample': 0.6, 'min_child_weight': 50.0, 'nworkers': 4, 'num_round': 100, 'featuresCol': 'features', 'predictionCol': 'prediction', 'objective': 'binary:logistic', 'nthread': 1}\n",
      "LOG-LOSS: 0.5056191387328791, ROC-AUC: 0.7328932223973932                       \n",
      "SPACE:                                                                          \n",
      "{'eval_metric': 'logloss', 'labelCol': 'label', 'eta': 0.3, 'colsample_bytree': 1.0, 'silent': 0, 'gamma': 0.01, 'max_depth': 5, 'subsample': 0.6, 'min_child_weight': 10.0, 'nworkers': 4, 'num_round': 100, 'featuresCol': 'features', 'predictionCol': 'prediction', 'objective': 'binary:logistic', 'nthread': 1}\n",
      "LOG-LOSS: 0.5015233189787504, ROC-AUC: 0.7383134916518604                       \n",
      "SPACE:                                                                          \n",
      "{'eval_metric': 'logloss', 'labelCol': 'label', 'eta': 0.3, 'colsample_bytree': 1.0, 'silent': 0, 'gamma': 0.01, 'max_depth': 3, 'subsample': 0.6, 'min_child_weight': 10.0, 'nworkers': 4, 'num_round': 100, 'featuresCol': 'features', 'predictionCol': 'prediction', 'objective': 'binary:logistic', 'nthread': 1}\n",
      "LOG-LOSS: 0.5048234789248532, ROC-AUC: 0.7336117015460877                       \n",
      "SPACE:                                                                          \n",
      "{'eval_metric': 'logloss', 'labelCol': 'label', 'eta': 0.3, 'colsample_bytree': 1.0, 'silent': 0, 'gamma': 0.6, 'max_depth': 5, 'subsample': 0.6, 'min_child_weight': 30.0, 'nworkers': 4, 'num_round': 100, 'featuresCol': 'features', 'predictionCol': 'prediction', 'objective': 'binary:logistic', 'nthread': 1}\n",
      "LOG-LOSS: 0.5016219942820264, ROC-AUC: 0.7380893622499404                       \n",
      "SPACE:                                                                          \n",
      "{'eval_metric': 'logloss', 'labelCol': 'label', 'eta': 0.3, 'colsample_bytree': 0.4, 'silent': 0, 'gamma': 0.6, 'max_depth': 3, 'subsample': 1.0, 'min_child_weight': 50.0, 'nworkers': 4, 'num_round': 100, 'featuresCol': 'features', 'predictionCol': 'prediction', 'objective': 'binary:logistic', 'nthread': 1}\n",
      "LOG-LOSS: 0.5060347998730673, ROC-AUC: 0.7317305950090307                       \n",
      "SPACE:                                                                          \n",
      "{'eval_metric': 'logloss', 'labelCol': 'label', 'eta': 0.3, 'colsample_bytree': 1.0, 'silent': 0, 'gamma': 0.01, 'max_depth': 8, 'subsample': 1.0, 'min_child_weight': 50.0, 'nworkers': 4, 'num_round': 100, 'featuresCol': 'features', 'predictionCol': 'prediction', 'objective': 'binary:logistic', 'nthread': 1}\n",
      "LOG-LOSS: 0.500072920887375, ROC-AUC: 0.7398436476787789                        \n",
      "SPACE:                                                                          \n",
      "{'eval_metric': 'logloss', 'labelCol': 'label', 'eta': 0.3, 'colsample_bytree': 1.0, 'silent': 0, 'gamma': 0.9, 'max_depth': 3, 'subsample': 1.0, 'min_child_weight': 50.0, 'nworkers': 4, 'num_round': 100, 'featuresCol': 'features', 'predictionCol': 'prediction', 'objective': 'binary:logistic', 'nthread': 1}\n",
      "LOG-LOSS: 0.5051391469287327, ROC-AUC: 0.7332046900292247                       \n",
      "SPACE:                                                                          \n",
      "{'eval_metric': 'logloss', 'labelCol': 'label', 'eta': 0.3, 'colsample_bytree': 0.6, 'silent': 0, 'gamma': 1.5, 'max_depth': 5, 'subsample': 0.6, 'min_child_weight': 30.0, 'nworkers': 4, 'num_round': 100, 'featuresCol': 'features', 'predictionCol': 'prediction', 'objective': 'binary:logistic', 'nthread': 1}\n",
      "LOG-LOSS: 0.5022715913931214, ROC-AUC: 0.737107510771383                        \n",
      "SPACE:                                                                          \n",
      "{'eval_metric': 'logloss', 'labelCol': 'label', 'eta': 0.3, 'colsample_bytree': 1.0, 'silent': 0, 'gamma': 1.5, 'max_depth': 8, 'subsample': 0.6, 'min_child_weight': 10.0, 'nworkers': 4, 'num_round': 100, 'featuresCol': 'features', 'predictionCol': 'prediction', 'objective': 'binary:logistic', 'nthread': 1}\n",
      "LOG-LOSS: 0.5005018826460735, ROC-AUC: 0.7393161192736294                       \n",
      "SPACE:                                                                          \n",
      "{'eval_metric': 'logloss', 'labelCol': 'label', 'eta': 0.3, 'colsample_bytree': 0.6, 'silent': 0, 'gamma': 0.9, 'max_depth': 3, 'subsample': 0.4, 'min_child_weight': 10.0, 'nworkers': 4, 'num_round': 100, 'featuresCol': 'features', 'predictionCol': 'prediction', 'objective': 'binary:logistic', 'nthread': 1}\n",
      "LOG-LOSS: 0.5054752067473686, ROC-AUC: 0.7327652766710949                       \n",
      "SPACE:                                                                          \n",
      "{'eval_metric': 'logloss', 'labelCol': 'label', 'eta': 0.3, 'colsample_bytree': 0.8, 'silent': 0, 'gamma': 0.9, 'max_depth': 3, 'subsample': 0.4, 'min_child_weight': 10.0, 'nworkers': 4, 'num_round': 100, 'featuresCol': 'features', 'predictionCol': 'prediction', 'objective': 'binary:logistic', 'nthread': 1}\n",
      "LOG-LOSS: 0.5052389574999885, ROC-AUC: 0.7331914726682541                       \n",
      "SPACE:                                                                          \n",
      "{'eval_metric': 'logloss', 'labelCol': 'label', 'eta': 0.3, 'colsample_bytree': 0.8, 'silent': 0, 'gamma': 0.01, 'max_depth': 8, 'subsample': 0.8, 'min_child_weight': 30.0, 'nworkers': 4, 'num_round': 100, 'featuresCol': 'features', 'predictionCol': 'prediction', 'objective': 'binary:logistic', 'nthread': 1}\n",
      "LOG-LOSS: 0.4998009061127587, ROC-AUC: 0.7402457581117167                       \n",
      "SPACE:                                                                           \n",
      "{'eval_metric': 'logloss', 'labelCol': 'label', 'eta': 0.3, 'colsample_bytree': 0.4, 'silent': 0, 'gamma': 1.5, 'max_depth': 3, 'subsample': 0.4, 'min_child_weight': 50.0, 'nworkers': 4, 'num_round': 100, 'featuresCol': 'features', 'predictionCol': 'prediction', 'objective': 'binary:logistic', 'nthread': 1}\n",
      "LOG-LOSS: 0.5059151608046629, ROC-AUC: 0.7325702976562803                        \n",
      "SPACE:                                                                           \n",
      "{'eval_metric': 'logloss', 'labelCol': 'label', 'eta': 0.3, 'colsample_bytree': 0.4, 'silent': 0, 'gamma': 0.01, 'max_depth': 8, 'subsample': 0.8, 'min_child_weight': 50.0, 'nworkers': 4, 'num_round': 100, 'featuresCol': 'features', 'predictionCol': 'prediction', 'objective': 'binary:logistic', 'nthread': 1}\n"
     ]
    },
    {
     "name": "stdout",
     "output_type": "stream",
     "text": [
      "LOG-LOSS: 0.5003154688571911, ROC-AUC: 0.7396303378279911                        \n",
      "SPACE:                                                                           \n",
      "{'eval_metric': 'logloss', 'labelCol': 'label', 'eta': 0.3, 'colsample_bytree': 1.0, 'silent': 0, 'gamma': 0.3, 'max_depth': 3, 'subsample': 1.0, 'min_child_weight': 50.0, 'nworkers': 4, 'num_round': 100, 'featuresCol': 'features', 'predictionCol': 'prediction', 'objective': 'binary:logistic', 'nthread': 1}\n",
      "LOG-LOSS: 0.5051391469287327, ROC-AUC: 0.7332046900292287                        \n",
      "SPACE:                                                                           \n",
      "{'eval_metric': 'logloss', 'labelCol': 'label', 'eta': 0.3, 'colsample_bytree': 0.6, 'silent': 0, 'gamma': 0.6, 'max_depth': 3, 'subsample': 0.4, 'min_child_weight': 10.0, 'nworkers': 4, 'num_round': 100, 'featuresCol': 'features', 'predictionCol': 'prediction', 'objective': 'binary:logistic', 'nthread': 1}\n",
      "LOG-LOSS: 0.5051051454064062, ROC-AUC: 0.7333901150635392                        \n",
      "SPACE:                                                                           \n",
      "{'eval_metric': 'logloss', 'labelCol': 'label', 'eta': 0.3, 'colsample_bytree': 0.8, 'silent': 0, 'gamma': 0.01, 'max_depth': 8, 'subsample': 0.8, 'min_child_weight': 30.0, 'nworkers': 4, 'num_round': 100, 'featuresCol': 'features', 'predictionCol': 'prediction', 'objective': 'binary:logistic', 'nthread': 1}\n",
      "LOG-LOSS: 0.500071817450518, ROC-AUC: 0.739881186012421                          \n",
      "SPACE:                                                                           \n",
      "{'eval_metric': 'logloss', 'labelCol': 'label', 'eta': 0.3, 'colsample_bytree': 0.8, 'silent': 0, 'gamma': 0.01, 'max_depth': 8, 'subsample': 0.8, 'min_child_weight': 30.0, 'nworkers': 4, 'num_round': 100, 'featuresCol': 'features', 'predictionCol': 'prediction', 'objective': 'binary:logistic', 'nthread': 1}\n",
      "LOG-LOSS: 0.49972139245714703, ROC-AUC: 0.7404067256087412                       \n",
      "SPACE:                                                                            \n",
      "{'eval_metric': 'logloss', 'labelCol': 'label', 'eta': 0.3, 'colsample_bytree': 0.8, 'silent': 0, 'gamma': 0.01, 'max_depth': 8, 'subsample': 0.8, 'min_child_weight': 30.0, 'nworkers': 4, 'num_round': 100, 'featuresCol': 'features', 'predictionCol': 'prediction', 'objective': 'binary:logistic', 'nthread': 1}\n",
      "LOG-LOSS: 0.49984020430460807, ROC-AUC: 0.7400884472208228                        \n",
      "SPACE:                                                                            \n",
      "{'eval_metric': 'logloss', 'labelCol': 'label', 'eta': 0.3, 'colsample_bytree': 0.8, 'silent': 0, 'gamma': 0.01, 'max_depth': 8, 'subsample': 0.8, 'min_child_weight': 30.0, 'nworkers': 4, 'num_round': 100, 'featuresCol': 'features', 'predictionCol': 'prediction', 'objective': 'binary:logistic', 'nthread': 1}\n",
      "LOG-LOSS: 0.500071817450518, ROC-AUC: 0.7398811860124241                          \n",
      "SPACE:                                                                            \n",
      "{'eval_metric': 'logloss', 'labelCol': 'label', 'eta': 0.3, 'colsample_bytree': 0.8, 'silent': 0, 'gamma': 0.3, 'max_depth': 8, 'subsample': 0.8, 'min_child_weight': 30.0, 'nworkers': 4, 'num_round': 100, 'featuresCol': 'features', 'predictionCol': 'prediction', 'objective': 'binary:logistic', 'nthread': 1}\n",
      "LOG-LOSS: 0.5000732159382697, ROC-AUC: 0.739830821690126                          \n",
      "SPACE:                                                                            \n",
      "{'eval_metric': 'logloss', 'labelCol': 'label', 'eta': 0.3, 'colsample_bytree': 0.8, 'silent': 0, 'gamma': 0.01, 'max_depth': 8, 'subsample': 0.8, 'min_child_weight': 30.0, 'nworkers': 4, 'num_round': 100, 'featuresCol': 'features', 'predictionCol': 'prediction', 'objective': 'binary:logistic', 'nthread': 1}\n",
      "LOG-LOSS: 0.4998869273635312, ROC-AUC: 0.7402601350402305                         \n",
      "SPACE:                                                                            \n",
      "{'eval_metric': 'logloss', 'labelCol': 'label', 'eta': 0.3, 'colsample_bytree': 0.8, 'silent': 0, 'gamma': 0.01, 'max_depth': 8, 'subsample': 0.8, 'min_child_weight': 30.0, 'nworkers': 4, 'num_round': 100, 'featuresCol': 'features', 'predictionCol': 'prediction', 'objective': 'binary:logistic', 'nthread': 1}\n",
      "LOG-LOSS: 0.500071817450518, ROC-AUC: 0.7398811860124246                          \n",
      "SPACE:                                                                            \n",
      "{'eval_metric': 'logloss', 'labelCol': 'label', 'eta': 0.3, 'colsample_bytree': 0.8, 'silent': 0, 'gamma': 0.01, 'max_depth': 5, 'subsample': 0.8, 'min_child_weight': 30.0, 'nworkers': 4, 'num_round': 100, 'featuresCol': 'features', 'predictionCol': 'prediction', 'objective': 'binary:logistic', 'nthread': 1}\n",
      "LOG-LOSS: 0.5019095898361088, ROC-AUC: 0.7376993431742349                         \n",
      "SPACE:                                                                            \n",
      "{'eval_metric': 'logloss', 'labelCol': 'label', 'eta': 0.3, 'colsample_bytree': 0.8, 'silent': 0, 'gamma': 1.5, 'max_depth': 8, 'subsample': 0.8, 'min_child_weight': 30.0, 'nworkers': 4, 'num_round': 100, 'featuresCol': 'features', 'predictionCol': 'prediction', 'objective': 'binary:logistic', 'nthread': 1}\n",
      "LOG-LOSS: 0.49991021710289246, ROC-AUC: 0.7402368714810807                        \n",
      "SPACE:                                                                            \n",
      "{'eval_metric': 'logloss', 'labelCol': 'label', 'eta': 0.3, 'colsample_bytree': 0.8, 'silent': 0, 'gamma': 0.3, 'max_depth': 8, 'subsample': 0.8, 'min_child_weight': 30.0, 'nworkers': 4, 'num_round': 100, 'featuresCol': 'features', 'predictionCol': 'prediction', 'objective': 'binary:logistic', 'nthread': 1}\n",
      "LOG-LOSS: 0.4999069485073709, ROC-AUC: 0.740240045107279                          \n",
      "100%|██████████| 30/30 [33:45<00:00, 67.52s/trial, best loss: 0.49972139245714703]\n"
     ]
    }
   ],
   "source": [
    "trials = Trials()\n",
    "best = fmin(fn=objective,\n",
    "            space=space,\n",
    "            algo=tpe.suggest,\n",
    "            max_evals=30,\n",
    "            trials=trials)"
   ]
  },
  {
   "cell_type": "code",
   "execution_count": 28,
   "metadata": {},
   "outputs": [
    {
     "data": {
      "text/plain": [
       "{'colsample_bytree': 2,\n",
       " 'gamma': 0,\n",
       " 'max_depth': 2,\n",
       " 'min_child_weight': 1,\n",
       " 'subsample': 2}"
      ]
     },
     "execution_count": 28,
     "metadata": {},
     "output_type": "execute_result"
    }
   ],
   "source": [
    "best"
   ]
  },
  {
   "cell_type": "code",
   "execution_count": 29,
   "metadata": {},
   "outputs": [],
   "source": [
    "colsample_bytree = colsample_bytree_choice[best['colsample_bytree']]\n",
    "gamma = gamma_choice[best['gamma']]\n",
    "max_depth = max_depth_choice[best['max_depth']]\n",
    "min_child_weight = min_child_weight_choice[best['min_child_weight']]\n",
    "subsample = subsample_choice[best['subsample']]"
   ]
  },
  {
   "cell_type": "code",
   "execution_count": 30,
   "metadata": {},
   "outputs": [
    {
     "data": {
      "text/plain": [
       "(0.8, 0.01, 8, 30.0, 0.8)"
      ]
     },
     "execution_count": 30,
     "metadata": {},
     "output_type": "execute_result"
    }
   ],
   "source": [
    "colsample_bytree, gamma, max_depth, min_child_weight, subsample"
   ]
  },
  {
   "cell_type": "markdown",
   "metadata": {},
   "source": [
    "### Tune regularization parameters\n",
    "\n",
    "> Tune regularization parameters (lambda, alpha) for xgboost which can help reduce model complexity and enhance performance."
   ]
  },
  {
   "cell_type": "code",
   "execution_count": 31,
   "metadata": {},
   "outputs": [],
   "source": [
    "lambda_choice = [0., 0.01, 0.1, 1., 10.]\n",
    "alpha_choice = [0., 0.01, 0.1, 1., 10.]\n",
    "\n",
    "space = {\n",
    "    # Optimize\n",
    "    'alpha': hp.choice('alpha', alpha_choice),\n",
    "    'reg_lambda': hp.choice('lambda', lambda_choice),\n",
    "    \n",
    "    # Fixed\n",
    "    'num_round': num_round,\n",
    "    'eta': eta, \n",
    "    'max_depth': max_depth,\n",
    "    'min_child_weight': min_child_weight,\n",
    "    'subsample': subsample,\n",
    "    'gamma': gamma,\n",
    "    'colsample_bytree': colsample_bytree,\n",
    "    \n",
    "    **static_params\n",
    "}\n"
   ]
  },
  {
   "cell_type": "code",
   "execution_count": 32,
   "metadata": {},
   "outputs": [
    {
     "name": "stdout",
     "output_type": "stream",
     "text": [
      "SPACE:                                                \n",
      "{'eval_metric': 'logloss', 'labelCol': 'label', 'subsample': 0.8, 'colsample_bytree': 0.8, 'gamma': 0.01, 'max_depth': 8, 'eta': 0.3, 'lambda': 0.0, 'min_child_weight': 30.0, 'nworkers': 4, 'num_round': 100, 'featuresCol': 'features', 'predictionCol': 'prediction', 'objective': 'binary:logistic', 'nthread': 1, 'silent': 0, 'alpha': 10.0}\n",
      "LOG-LOSS: 0.49977271378089266, ROC-AUC: 0.7404214183140699\n",
      "SPACE:                                                                           \n",
      "{'eval_metric': 'logloss', 'labelCol': 'label', 'subsample': 0.8, 'colsample_bytree': 0.8, 'gamma': 0.01, 'max_depth': 8, 'eta': 0.3, 'lambda': 0.1, 'min_child_weight': 30.0, 'nworkers': 4, 'num_round': 100, 'featuresCol': 'features', 'predictionCol': 'prediction', 'objective': 'binary:logistic', 'nthread': 1, 'silent': 0, 'alpha': 0.0}\n",
      "LOG-LOSS: 0.49985367917423307, ROC-AUC: 0.7403588273786044                       \n",
      "SPACE:                                                                           \n",
      "{'eval_metric': 'logloss', 'labelCol': 'label', 'subsample': 0.8, 'colsample_bytree': 0.8, 'gamma': 0.01, 'max_depth': 8, 'eta': 0.3, 'lambda': 1.0, 'min_child_weight': 30.0, 'nworkers': 4, 'num_round': 100, 'featuresCol': 'features', 'predictionCol': 'prediction', 'objective': 'binary:logistic', 'nthread': 1, 'silent': 0, 'alpha': 1.0}\n",
      "LOG-LOSS: 0.49993708181795377, ROC-AUC: 0.7401057240304575                       \n",
      "SPACE:                                                                           \n",
      "{'eval_metric': 'logloss', 'labelCol': 'label', 'subsample': 0.8, 'colsample_bytree': 0.8, 'gamma': 0.01, 'max_depth': 8, 'eta': 0.3, 'lambda': 0.1, 'min_child_weight': 30.0, 'nworkers': 4, 'num_round': 100, 'featuresCol': 'features', 'predictionCol': 'prediction', 'objective': 'binary:logistic', 'nthread': 1, 'silent': 0, 'alpha': 0.1}\n",
      "LOG-LOSS: 0.4999866370897786, ROC-AUC: 0.7401391841320348                        \n",
      "SPACE:                                                                           \n",
      "{'eval_metric': 'logloss', 'labelCol': 'label', 'subsample': 0.8, 'colsample_bytree': 0.8, 'gamma': 0.01, 'max_depth': 8, 'eta': 0.3, 'lambda': 10.0, 'min_child_weight': 30.0, 'nworkers': 4, 'num_round': 100, 'featuresCol': 'features', 'predictionCol': 'prediction', 'objective': 'binary:logistic', 'nthread': 1, 'silent': 0, 'alpha': 10.0}\n",
      "LOG-LOSS: 0.5000670319181011, ROC-AUC: 0.7399819576125195                        \n",
      "SPACE:                                                                           \n",
      "{'eval_metric': 'logloss', 'labelCol': 'label', 'subsample': 0.8, 'colsample_bytree': 0.8, 'gamma': 0.01, 'max_depth': 8, 'eta': 0.3, 'lambda': 10.0, 'min_child_weight': 30.0, 'nworkers': 4, 'num_round': 100, 'featuresCol': 'features', 'predictionCol': 'prediction', 'objective': 'binary:logistic', 'nthread': 1, 'silent': 0, 'alpha': 1.0}\n",
      "LOG-LOSS: 0.5001293597107371, ROC-AUC: 0.7398874751440319                        \n",
      "SPACE:                                                                           \n",
      "{'eval_metric': 'logloss', 'labelCol': 'label', 'subsample': 0.8, 'colsample_bytree': 0.8, 'gamma': 0.01, 'max_depth': 8, 'eta': 0.3, 'lambda': 10.0, 'min_child_weight': 30.0, 'nworkers': 4, 'num_round': 100, 'featuresCol': 'features', 'predictionCol': 'prediction', 'objective': 'binary:logistic', 'nthread': 1, 'silent': 0, 'alpha': 0.0}\n",
      "LOG-LOSS: 0.5001990858175418, ROC-AUC: 0.739826814203772                         \n",
      "SPACE:                                                                           \n",
      "{'eval_metric': 'logloss', 'labelCol': 'label', 'subsample': 0.8, 'colsample_bytree': 0.8, 'gamma': 0.01, 'max_depth': 8, 'eta': 0.3, 'lambda': 10.0, 'min_child_weight': 30.0, 'nworkers': 4, 'num_round': 100, 'featuresCol': 'features', 'predictionCol': 'prediction', 'objective': 'binary:logistic', 'nthread': 1, 'silent': 0, 'alpha': 0.0}\n",
      "LOG-LOSS: 0.5000379853465555, ROC-AUC: 0.7400199209592622                        \n",
      "SPACE:                                                                           \n",
      "{'eval_metric': 'logloss', 'labelCol': 'label', 'subsample': 0.8, 'colsample_bytree': 0.8, 'gamma': 0.01, 'max_depth': 8, 'eta': 0.3, 'lambda': 10.0, 'min_child_weight': 30.0, 'nworkers': 4, 'num_round': 100, 'featuresCol': 'features', 'predictionCol': 'prediction', 'objective': 'binary:logistic', 'nthread': 1, 'silent': 0, 'alpha': 0.01}\n",
      "LOG-LOSS: 0.5001985094653248, ROC-AUC: 0.7398140414860929                        \n",
      "SPACE:                                                                           \n",
      "{'eval_metric': 'logloss', 'labelCol': 'label', 'subsample': 0.8, 'colsample_bytree': 0.8, 'gamma': 0.01, 'max_depth': 8, 'eta': 0.3, 'lambda': 0.0, 'min_child_weight': 30.0, 'nworkers': 4, 'num_round': 100, 'featuresCol': 'features', 'predictionCol': 'prediction', 'objective': 'binary:logistic', 'nthread': 1, 'silent': 0, 'alpha': 10.0}\n",
      "LOG-LOSS: 0.49978178654228067, ROC-AUC: 0.7404330610249793                       \n",
      "SPACE:                                                                            \n",
      "{'eval_metric': 'logloss', 'labelCol': 'label', 'subsample': 0.8, 'colsample_bytree': 0.8, 'gamma': 0.01, 'max_depth': 8, 'eta': 0.3, 'lambda': 10.0, 'min_child_weight': 30.0, 'nworkers': 4, 'num_round': 100, 'featuresCol': 'features', 'predictionCol': 'prediction', 'objective': 'binary:logistic', 'nthread': 1, 'silent': 0, 'alpha': 1.0}\n",
      "LOG-LOSS: 0.499927408375682, ROC-AUC: 0.7401953235056036                          \n",
      "SPACE:                                                                            \n",
      "{'eval_metric': 'logloss', 'labelCol': 'label', 'subsample': 0.8, 'colsample_bytree': 0.8, 'gamma': 0.01, 'max_depth': 8, 'eta': 0.3, 'lambda': 10.0, 'min_child_weight': 30.0, 'nworkers': 4, 'num_round': 100, 'featuresCol': 'features', 'predictionCol': 'prediction', 'objective': 'binary:logistic', 'nthread': 1, 'silent': 0, 'alpha': 1.0}\n",
      "LOG-LOSS: 0.5001929348481515, ROC-AUC: 0.7396522657636444                         \n",
      "SPACE:                                                                            \n",
      "{'eval_metric': 'logloss', 'labelCol': 'label', 'subsample': 0.8, 'colsample_bytree': 0.8, 'gamma': 0.01, 'max_depth': 8, 'eta': 0.3, 'lambda': 0.01, 'min_child_weight': 30.0, 'nworkers': 4, 'num_round': 100, 'featuresCol': 'features', 'predictionCol': 'prediction', 'objective': 'binary:logistic', 'nthread': 1, 'silent': 0, 'alpha': 0.0}\n",
      "LOG-LOSS: 0.5001460705677458, ROC-AUC: 0.7397654374155029                         \n",
      "SPACE:                                                                            \n",
      "{'eval_metric': 'logloss', 'labelCol': 'label', 'subsample': 0.8, 'colsample_bytree': 0.8, 'gamma': 0.01, 'max_depth': 8, 'eta': 0.3, 'lambda': 10.0, 'min_child_weight': 30.0, 'nworkers': 4, 'num_round': 100, 'featuresCol': 'features', 'predictionCol': 'prediction', 'objective': 'binary:logistic', 'nthread': 1, 'silent': 0, 'alpha': 0.01}\n",
      "LOG-LOSS: 0.49999179415341205, ROC-AUC: 0.7400511658503636                        \n",
      "SPACE:                                                                            \n",
      "{'eval_metric': 'logloss', 'labelCol': 'label', 'subsample': 0.8, 'colsample_bytree': 0.8, 'gamma': 0.01, 'max_depth': 8, 'eta': 0.3, 'lambda': 0.01, 'min_child_weight': 30.0, 'nworkers': 4, 'num_round': 100, 'featuresCol': 'features', 'predictionCol': 'prediction', 'objective': 'binary:logistic', 'nthread': 1, 'silent': 0, 'alpha': 0.1}\n",
      "LOG-LOSS: 0.4998624342510845, ROC-AUC: 0.7401900004878235                         \n",
      "SPACE:                                                                            \n",
      "{'eval_metric': 'logloss', 'labelCol': 'label', 'subsample': 0.8, 'colsample_bytree': 0.8, 'gamma': 0.01, 'max_depth': 8, 'eta': 0.3, 'lambda': 0.01, 'min_child_weight': 30.0, 'nworkers': 4, 'num_round': 100, 'featuresCol': 'features', 'predictionCol': 'prediction', 'objective': 'binary:logistic', 'nthread': 1, 'silent': 0, 'alpha': 0.1}\n",
      "LOG-LOSS: 0.4997457618304793, ROC-AUC: 0.7403980078748181                         \n",
      "SPACE:                                                                            \n",
      "{'eval_metric': 'logloss', 'labelCol': 'label', 'subsample': 0.8, 'colsample_bytree': 0.8, 'gamma': 0.01, 'max_depth': 8, 'eta': 0.3, 'lambda': 10.0, 'min_child_weight': 30.0, 'nworkers': 4, 'num_round': 100, 'featuresCol': 'features', 'predictionCol': 'prediction', 'objective': 'binary:logistic', 'nthread': 1, 'silent': 0, 'alpha': 0.0}\n"
     ]
    },
    {
     "name": "stdout",
     "output_type": "stream",
     "text": [
      "LOG-LOSS: 0.49985672607224496, ROC-AUC: 0.7402958756323418                       \n",
      "SPACE:                                                                           \n",
      "{'eval_metric': 'logloss', 'labelCol': 'label', 'subsample': 0.8, 'colsample_bytree': 0.8, 'gamma': 0.01, 'max_depth': 8, 'eta': 0.3, 'lambda': 1.0, 'min_child_weight': 30.0, 'nworkers': 4, 'num_round': 100, 'featuresCol': 'features', 'predictionCol': 'prediction', 'objective': 'binary:logistic', 'nthread': 1, 'silent': 0, 'alpha': 0.0}\n",
      "LOG-LOSS: 0.49984020430460807, ROC-AUC: 0.740088447220825                        \n",
      "SPACE:                                                                           \n",
      "{'eval_metric': 'logloss', 'labelCol': 'label', 'subsample': 0.8, 'colsample_bytree': 0.8, 'gamma': 0.01, 'max_depth': 8, 'eta': 0.3, 'lambda': 10.0, 'min_child_weight': 30.0, 'nworkers': 4, 'num_round': 100, 'featuresCol': 'features', 'predictionCol': 'prediction', 'objective': 'binary:logistic', 'nthread': 1, 'silent': 0, 'alpha': 1.0}\n",
      "LOG-LOSS: 0.5001104255965328, ROC-AUC: 0.7398536081968927                        \n",
      "SPACE:                                                                           \n",
      "{'eval_metric': 'logloss', 'labelCol': 'label', 'subsample': 0.8, 'colsample_bytree': 0.8, 'gamma': 0.01, 'max_depth': 8, 'eta': 0.3, 'lambda': 0.0, 'min_child_weight': 30.0, 'nworkers': 4, 'num_round': 100, 'featuresCol': 'features', 'predictionCol': 'prediction', 'objective': 'binary:logistic', 'nthread': 1, 'silent': 0, 'alpha': 1.0}\n",
      "LOG-LOSS: 0.4997759506631152, ROC-AUC: 0.7404098639005838                        \n",
      "100%|██████████| 20/20 [28:09<00:00, 84.50s/trial, best loss: 0.4997457618304793]\n"
     ]
    }
   ],
   "source": [
    "trials = Trials()\n",
    "best = fmin(fn=objective,\n",
    "            space=space,\n",
    "            algo=tpe.suggest,\n",
    "            max_evals=20,\n",
    "            trials=trials)"
   ]
  },
  {
   "cell_type": "code",
   "execution_count": 33,
   "metadata": {},
   "outputs": [
    {
     "data": {
      "text/plain": [
       "{'alpha': 2, 'lambda': 1}"
      ]
     },
     "execution_count": 33,
     "metadata": {},
     "output_type": "execute_result"
    }
   ],
   "source": [
    "best"
   ]
  },
  {
   "cell_type": "code",
   "execution_count": 34,
   "metadata": {},
   "outputs": [],
   "source": [
    "alpha = alpha_choice[best['alpha']]\n",
    "reg_lambda = lambda_choice[best['lambda']]"
   ]
  },
  {
   "cell_type": "code",
   "execution_count": 35,
   "metadata": {},
   "outputs": [
    {
     "data": {
      "text/plain": [
       "(0.1, 0.01)"
      ]
     },
     "execution_count": 35,
     "metadata": {},
     "output_type": "execute_result"
    }
   ],
   "source": [
    "alpha, reg_lambda"
   ]
  },
  {
   "cell_type": "markdown",
   "metadata": {},
   "source": [
    "### Lower the learning rate and decide the optimal parameters"
   ]
  },
  {
   "cell_type": "code",
   "execution_count": 36,
   "metadata": {},
   "outputs": [],
   "source": [
    "params = {\n",
    "    # Optimize\n",
    "    'alpha': alpha,\n",
    "    'reg_lambda': reg_lambda,\n",
    "    'num_round': num_round,\n",
    "    'eta': eta, \n",
    "    'max_depth': max_depth,\n",
    "    'min_child_weight': min_child_weight,\n",
    "    'subsample': subsample,\n",
    "    'gamma': gamma,\n",
    "    'colsample_bytree': colsample_bytree,\n",
    "    \n",
    "    **static_params\n",
    "}"
   ]
  },
  {
   "cell_type": "code",
   "execution_count": 37,
   "metadata": {},
   "outputs": [
    {
     "data": {
      "text/plain": [
       "{'alpha': 0.1,\n",
       " 'colsample_bytree': 0.8,\n",
       " 'eta': 0.3,\n",
       " 'eval_metric': 'logloss',\n",
       " 'featuresCol': 'features',\n",
       " 'gamma': 0.01,\n",
       " 'labelCol': 'label',\n",
       " 'max_depth': 8,\n",
       " 'min_child_weight': 30.0,\n",
       " 'nthread': 1,\n",
       " 'num_round': 100,\n",
       " 'nworkers': 4,\n",
       " 'objective': 'binary:logistic',\n",
       " 'predictionCol': 'prediction',\n",
       " 'reg_lambda': 0.01,\n",
       " 'silent': 0,\n",
       " 'subsample': 0.8}"
      ]
     },
     "execution_count": 37,
     "metadata": {},
     "output_type": "execute_result"
    }
   ],
   "source": [
    "params"
   ]
  },
  {
   "cell_type": "code",
   "execution_count": 38,
   "metadata": {},
   "outputs": [],
   "source": [
    "best_params_model = XGBoostEstimator(**params).fit(train_df)"
   ]
  },
  {
   "cell_type": "code",
   "execution_count": 39,
   "metadata": {},
   "outputs": [],
   "source": [
    "best_params_test_metrics = {\n",
    "    'logloss': logloss(best_params_model, test_df, probabilities_col='probabilities'),\n",
    "    'rocauc': rocauc(best_params_model, test_df, probabilities_col='probabilities')\n",
    "}\n",
    "\n",
    "all_metrics['xgboost_best_params'] = best_params_test_metrics"
   ]
  },
  {
   "cell_type": "code",
   "execution_count": 40,
   "metadata": {},
   "outputs": [
    {
     "data": {
      "text/html": [
       "<div>\n",
       "<style scoped>\n",
       "    .dataframe tbody tr th:only-of-type {\n",
       "        vertical-align: middle;\n",
       "    }\n",
       "\n",
       "    .dataframe tbody tr th {\n",
       "        vertical-align: top;\n",
       "    }\n",
       "\n",
       "    .dataframe thead th {\n",
       "        text-align: right;\n",
       "    }\n",
       "</style>\n",
       "<table border=\"1\" class=\"dataframe\">\n",
       "  <thead>\n",
       "    <tr style=\"text-align: right;\">\n",
       "      <th></th>\n",
       "      <th>metric</th>\n",
       "      <th>xgboost_best_params ate %</th>\n",
       "    </tr>\n",
       "  </thead>\n",
       "  <tbody>\n",
       "    <tr>\n",
       "      <th>0</th>\n",
       "      <td>rocauc</td>\n",
       "      <td>1.872134</td>\n",
       "    </tr>\n",
       "    <tr>\n",
       "      <th>1</th>\n",
       "      <td>logloss</td>\n",
       "      <td>-2.082839</td>\n",
       "    </tr>\n",
       "  </tbody>\n",
       "</table>\n",
       "</div>"
      ],
      "text/plain": [
       "    metric  xgboost_best_params ate %\n",
       "0   rocauc                   1.872134\n",
       "1  logloss                  -2.082839"
      ]
     },
     "execution_count": 40,
     "metadata": {},
     "output_type": "execute_result"
    }
   ],
   "source": [
    "get_ate(all_metrics, CONTROL_NAME)"
   ]
  },
  {
   "cell_type": "markdown",
   "metadata": {},
   "source": [
    "---\n",
    "## LogisticRegression Tuning\n",
    "\n",
    "Подберем гиперпараметры для логрега из предыдущих практик"
   ]
  },
  {
   "cell_type": "code",
   "execution_count": 41,
   "metadata": {},
   "outputs": [],
   "source": [
    "def objective(space, estimatorModel = LogisticRegression):\n",
    "    estimator = estimatorModel(**space)\n",
    "    success = False\n",
    "    attempts = 0\n",
    "    model = None\n",
    "    while not success and attempts < 2:\n",
    "        try:\n",
    "            model = estimator.fit(train_df)\n",
    "            success = True\n",
    "        except Exception as e:\n",
    "            attempts += 1\n",
    "            print(e)\n",
    "            print('Try again')\n",
    "        \n",
    "    log_loss = logloss(model, val_df, probabilities_col='probability')\n",
    "    roc_auc = rocauc(model, val_df, probabilities_col='probability')\n",
    "    \n",
    "    print('LOG-LOSS: {}, ROC-AUC: {}'.format(log_loss, roc_auc))\n",
    "\n",
    "    return {'loss': log_loss, 'rocauc': roc_auc, 'status': STATUS_OK }"
   ]
  },
  {
   "cell_type": "code",
   "execution_count": 42,
   "metadata": {},
   "outputs": [],
   "source": [
    "lr_baseline_params = {\n",
    "    'maxIter': 10,\n",
    "    'regParam': 0.0,\n",
    "    'elasticNetParam': 0.0,\n",
    "    'tol': 1e-06\n",
    "}\n",
    "\n",
    "lr_baseline_model = LogisticRegression(**lr_baseline_params).fit(train_df)"
   ]
  },
  {
   "cell_type": "code",
   "execution_count": 43,
   "metadata": {},
   "outputs": [],
   "source": [
    "baseline_test_metrics = {\n",
    "    'logloss': logloss(lr_baseline_model, test_df, probabilities_col='probability'),\n",
    "    'rocauc': rocauc(lr_baseline_model, test_df, probabilities_col='probability')\n",
    "}\n",
    "\n",
    "all_metrics['lr baseline'] = baseline_test_metrics"
   ]
  },
  {
   "cell_type": "code",
   "execution_count": 44,
   "metadata": {},
   "outputs": [],
   "source": [
    "max_iter_choice = [10, 20, 30]\n",
    "reg_param_choice = [0.0, 0.01, 0.1, 0.5, 1.0]\n",
    "elastic_net_param_choice = [0.0, 0.01, 0.1, 0.5, 1.0]\n",
    "\n",
    "space = {\n",
    "    'maxIter': hp.choice('max_iter', max_iter_choice),\n",
    "    'regParam': hp.choice('reg_param', reg_param_choice),\n",
    "    'elasticNetParam': hp.choice('elastic_net_param', elastic_net_param_choice)\n",
    "}"
   ]
  },
  {
   "cell_type": "code",
   "execution_count": 45,
   "metadata": {},
   "outputs": [
    {
     "name": "stdout",
     "output_type": "stream",
     "text": [
      "LOG-LOSS: 0.5752172500206219, ROC-AUC: 0.5            \n",
      "LOG-LOSS: 0.5696866960748407, ROC-AUC: 0.6651109716451596                       \n",
      "LOG-LOSS: 0.5294676130310666, ROC-AUC: 0.7030947639809677                       \n",
      "LOG-LOSS: 0.549456182583188, ROC-AUC: 0.7008628035451681                        \n",
      "LOG-LOSS: 0.549456182583188, ROC-AUC: 0.7008628035451712                        \n",
      "LOG-LOSS: 0.5278837426902139, ROC-AUC: 0.7021667489839274                       \n",
      "LOG-LOSS: 0.5752172500206219, ROC-AUC: 0.5                                      \n",
      "LOG-LOSS: 0.5640565126220034, ROC-AUC: 0.6648189706296547                       \n",
      "LOG-LOSS: 0.5283011885933424, ROC-AUC: 0.7032901003424322                       \n",
      "LOG-LOSS: 0.5354273561551044, ROC-AUC: 0.7019957367513623                       \n",
      "LOG-LOSS: 0.5752172500206219, ROC-AUC: 0.5                                       \n",
      "LOG-LOSS: 0.5423469736856984, ROC-AUC: 0.6882960416345602                        \n",
      "LOG-LOSS: 0.5640780128301158, ROC-AUC: 0.6899638077593031                        \n",
      "LOG-LOSS: 0.5283770528733693, ROC-AUC: 0.7038442013428331                        \n",
      "LOG-LOSS: 0.5283770528733693, ROC-AUC: 0.7038442013428329                        \n",
      "LOG-LOSS: 0.5696970219109766, ROC-AUC: 0.6651109716451596                        \n",
      "LOG-LOSS: 0.5640564896481222, ROC-AUC: 0.6648189706296544                        \n",
      "LOG-LOSS: 0.5575866677827288, ROC-AUC: 0.7008235432964536                        \n",
      "LOG-LOSS: 0.5752172500206219, ROC-AUC: 0.5                                       \n",
      "LOG-LOSS: 0.5361147155217513, ROC-AUC: 0.6962577212029032                        \n",
      "LOG-LOSS: 0.5283011885933424, ROC-AUC: 0.7032901003424283                        \n",
      "LOG-LOSS: 0.5283148861316417, ROC-AUC: 0.7030988250462257                        \n",
      "LOG-LOSS: 0.5283148861316417, ROC-AUC: 0.7030988250462278                        \n",
      "LOG-LOSS: 0.5283011885933424, ROC-AUC: 0.7032901003424318                        \n",
      "LOG-LOSS: 0.5278837426902139, ROC-AUC: 0.7021667489839262                        \n",
      "LOG-LOSS: 0.5278837426902139, ROC-AUC: 0.7021667489839287                        \n",
      "LOG-LOSS: 0.5278837426902139, ROC-AUC: 0.7021667489839278                        \n",
      "LOG-LOSS: 0.5278837426902139, ROC-AUC: 0.70216674898393                          \n",
      "LOG-LOSS: 0.5274875730386193, ROC-AUC: 0.7028139892081791                        \n",
      "LOG-LOSS: 0.5274875730386193, ROC-AUC: 0.7028139892081825                        \n",
      "LOG-LOSS: 0.5274875730386193, ROC-AUC: 0.7028139892081823                        \n",
      "LOG-LOSS: 0.5274875730386193, ROC-AUC: 0.7028139892081814                        \n",
      "LOG-LOSS: 0.5274875730386193, ROC-AUC: 0.7028139892081824                        \n",
      "LOG-LOSS: 0.5640780128301158, ROC-AUC: 0.6899638077593008                        \n",
      "LOG-LOSS: 0.5274875730386193, ROC-AUC: 0.7028139892081794                        \n",
      "LOG-LOSS: 0.5552421951858173, ROC-AUC: 0.6958253329934578                        \n",
      "100%|██████████| 36/36 [08:55<00:00, 14.87s/trial, best loss: 0.5274875730386193]\n"
     ]
    }
   ],
   "source": [
    "trials = Trials()\n",
    "best = fmin(\n",
    "    fn=objective,\n",
    "    space=space,\n",
    "    algo=tpe.suggest,\n",
    "    max_evals=36,\n",
    "    trials=trials\n",
    ")"
   ]
  },
  {
   "cell_type": "code",
   "execution_count": 46,
   "metadata": {},
   "outputs": [
    {
     "data": {
      "text/plain": [
       "{'elastic_net_param': 1, 'max_iter': 1, 'reg_param': 1}"
      ]
     },
     "execution_count": 46,
     "metadata": {},
     "output_type": "execute_result"
    }
   ],
   "source": [
    "best"
   ]
  },
  {
   "cell_type": "code",
   "execution_count": 47,
   "metadata": {},
   "outputs": [
    {
     "data": {
      "text/plain": [
       "{'elasticNetParam': 0.01, 'maxIter': 20, 'regParam': 0.01}"
      ]
     },
     "execution_count": 47,
     "metadata": {},
     "output_type": "execute_result"
    }
   ],
   "source": [
    "max_iter = max_iter_choice[best['max_iter']]\n",
    "reg_param = reg_param_choice[best['reg_param']]\n",
    "elastic_net_param = elastic_net_param_choice[best['elastic_net_param']]\n",
    "\n",
    "lr_params = {\n",
    "    'maxIter': max_iter,\n",
    "    'regParam': reg_param,\n",
    "    'elasticNetParam': elastic_net_param\n",
    "}\n",
    "lr_params"
   ]
  },
  {
   "cell_type": "code",
   "execution_count": 48,
   "metadata": {},
   "outputs": [],
   "source": [
    "lr_best_params_model = LogisticRegression(**lr_params).fit(train_df)"
   ]
  },
  {
   "cell_type": "code",
   "execution_count": 49,
   "metadata": {},
   "outputs": [],
   "source": [
    "lr_best_params_test_metrics = {\n",
    "    'logloss': logloss(lr_best_params_model, test_df, probabilities_col='probability'),\n",
    "    'rocauc': rocauc(lr_best_params_model, test_df, probabilities_col='probability')\n",
    "}\n",
    "\n",
    "all_metrics['lr_best_params'] = lr_best_params_test_metrics"
   ]
  },
  {
   "cell_type": "code",
   "execution_count": 50,
   "metadata": {},
   "outputs": [
    {
     "data": {
      "text/html": [
       "<div>\n",
       "<style scoped>\n",
       "    .dataframe tbody tr th:only-of-type {\n",
       "        vertical-align: middle;\n",
       "    }\n",
       "\n",
       "    .dataframe tbody tr th {\n",
       "        vertical-align: top;\n",
       "    }\n",
       "\n",
       "    .dataframe thead th {\n",
       "        text-align: right;\n",
       "    }\n",
       "</style>\n",
       "<table border=\"1\" class=\"dataframe\">\n",
       "  <thead>\n",
       "    <tr style=\"text-align: right;\">\n",
       "      <th></th>\n",
       "      <th>lr baseline ate %</th>\n",
       "      <th>lr_best_params ate %</th>\n",
       "      <th>metric</th>\n",
       "      <th>xgboost_best_params ate %</th>\n",
       "    </tr>\n",
       "  </thead>\n",
       "  <tbody>\n",
       "    <tr>\n",
       "      <th>0</th>\n",
       "      <td>-3.274936</td>\n",
       "      <td>-3.392148</td>\n",
       "      <td>rocauc</td>\n",
       "      <td>1.872134</td>\n",
       "    </tr>\n",
       "    <tr>\n",
       "      <th>1</th>\n",
       "      <td>3.372509</td>\n",
       "      <td>3.306220</td>\n",
       "      <td>logloss</td>\n",
       "      <td>-2.082839</td>\n",
       "    </tr>\n",
       "  </tbody>\n",
       "</table>\n",
       "</div>"
      ],
      "text/plain": [
       "   lr baseline ate %  lr_best_params ate %   metric  xgboost_best_params ate %\n",
       "0          -3.274936             -3.392148   rocauc                   1.872134\n",
       "1           3.372509              3.306220  logloss                  -2.082839"
      ]
     },
     "execution_count": 50,
     "metadata": {},
     "output_type": "execute_result"
    }
   ],
   "source": [
    "get_ate(all_metrics, CONTROL_NAME)"
   ]
  },
  {
   "cell_type": "markdown",
   "metadata": {},
   "source": [
    "---\n",
    "## Optional [MongoTrials](https://hyperopt.github.io/hyperopt/scaleout/mongodb/)\n",
    "\n",
    "> For parallel search, hyperopt includes a MongoTrials implementation that supports asynchronous updates.\n",
    "\n",
    "**TLDR** Преимущества использования `MongoTrials`:\n",
    "* `MongoTrials` позволяет параллельно запускать несколько вычислений целевой функции\n",
    "* Динамический уровень параллелизма - можно добавлять/удалять воркеров, которые вычисляют целевую функцию\n",
    "* Все результаты сохраняются в БД - история запусков никуда не потеряется\n",
    "\n",
    "*За выполнение данного задания можно получить дополнительно +0.4 к итоговому баллу*"
   ]
  },
  {
   "cell_type": "markdown",
   "metadata": {},
   "source": [
    "### XGBoost Tuning"
   ]
  },
  {
   "cell_type": "code",
   "execution_count": null,
   "metadata": {},
   "outputs": [],
   "source": [
    "######################################\n",
    "######### YOUR CODE HERE #############\n",
    "######################################"
   ]
  },
  {
   "cell_type": "markdown",
   "metadata": {},
   "source": [
    "# Results\n",
    "\n",
    "Подведем итоги.\n",
    "\n",
    "Обучите модели с найденными (оптимальными) гиперпараметрами и сделайте справнение на отложенной выборке"
   ]
  },
  {
   "cell_type": "code",
   "execution_count": 51,
   "metadata": {},
   "outputs": [],
   "source": [
    "all_metrics = {}"
   ]
  },
  {
   "cell_type": "code",
   "execution_count": 52,
   "metadata": {},
   "outputs": [],
   "source": [
    "baseline_model = XGBoostEstimator(**{**static_params, **baseline_params}).fit(train_df)"
   ]
  },
  {
   "cell_type": "code",
   "execution_count": 53,
   "metadata": {},
   "outputs": [],
   "source": [
    "baseline_test_metrics = {\n",
    "    'logloss': logloss(baseline_model, test_df, probabilities_col='probabilities'),\n",
    "    'rocauc': rocauc(baseline_model, test_df, probabilities_col='probabilities')\n",
    "}\n",
    "\n",
    "all_metrics[CONTROL_NAME] = baseline_test_metrics"
   ]
  },
  {
   "cell_type": "code",
   "execution_count": 54,
   "metadata": {},
   "outputs": [],
   "source": [
    "best_params_model = XGBoostEstimator(**params).fit(train_df)"
   ]
  },
  {
   "cell_type": "code",
   "execution_count": 55,
   "metadata": {},
   "outputs": [],
   "source": [
    "best_params_test_metrics = {\n",
    "    'logloss': logloss(best_params_model, test_df, probabilities_col='probabilities'),\n",
    "    'rocauc': rocauc(best_params_model, test_df, probabilities_col='probabilities')\n",
    "}\n",
    "\n",
    "all_metrics['xgboost_best_params'] = best_params_test_metrics"
   ]
  },
  {
   "cell_type": "code",
   "execution_count": 56,
   "metadata": {},
   "outputs": [],
   "source": [
    "lr_best_params_model = LogisticRegression(**lr_params).fit(train_df)"
   ]
  },
  {
   "cell_type": "code",
   "execution_count": 57,
   "metadata": {},
   "outputs": [],
   "source": [
    "lr_best_params_test_metrics = {\n",
    "    'logloss': logloss(lr_best_params_model, test_df, probabilities_col='probability'),\n",
    "    'rocauc': rocauc(lr_best_params_model, test_df, probabilities_col='probability')\n",
    "}\n",
    "\n",
    "all_metrics['lr_best_params'] = lr_best_params_test_metrics"
   ]
  },
  {
   "cell_type": "markdown",
   "metadata": {},
   "source": [
    "Итоговая таблица"
   ]
  },
  {
   "cell_type": "code",
   "execution_count": 58,
   "metadata": {},
   "outputs": [
    {
     "data": {
      "text/html": [
       "<div>\n",
       "<style scoped>\n",
       "    .dataframe tbody tr th:only-of-type {\n",
       "        vertical-align: middle;\n",
       "    }\n",
       "\n",
       "    .dataframe tbody tr th {\n",
       "        vertical-align: top;\n",
       "    }\n",
       "\n",
       "    .dataframe thead th {\n",
       "        text-align: right;\n",
       "    }\n",
       "</style>\n",
       "<table border=\"1\" class=\"dataframe\">\n",
       "  <thead>\n",
       "    <tr style=\"text-align: right;\">\n",
       "      <th></th>\n",
       "      <th>lr_best_params ate %</th>\n",
       "      <th>metric</th>\n",
       "      <th>xgboost_best_params ate %</th>\n",
       "    </tr>\n",
       "  </thead>\n",
       "  <tbody>\n",
       "    <tr>\n",
       "      <th>0</th>\n",
       "      <td>-3.322021</td>\n",
       "      <td>rocauc</td>\n",
       "      <td>1.972038</td>\n",
       "    </tr>\n",
       "    <tr>\n",
       "      <th>1</th>\n",
       "      <td>3.256206</td>\n",
       "      <td>logloss</td>\n",
       "      <td>-2.152145</td>\n",
       "    </tr>\n",
       "  </tbody>\n",
       "</table>\n",
       "</div>"
      ],
      "text/plain": [
       "   lr_best_params ate %   metric  xgboost_best_params ate %\n",
       "0             -3.322021   rocauc                   1.972038\n",
       "1              3.256206  logloss                  -2.152145"
      ]
     },
     "execution_count": 58,
     "metadata": {},
     "output_type": "execute_result"
    }
   ],
   "source": [
    "get_ate(all_metrics, CONTROL_NAME)"
   ]
  },
  {
   "cell_type": "code",
   "execution_count": null,
   "metadata": {},
   "outputs": [],
   "source": []
  }
 ],
 "metadata": {
  "kernelspec": {
   "display_name": "Python 3",
   "language": "python",
   "name": "python3"
  },
  "language_info": {
   "codemirror_mode": {
    "name": "ipython",
    "version": 3
   },
   "file_extension": ".py",
   "mimetype": "text/x-python",
   "name": "python",
   "nbconvert_exporter": "python",
   "pygments_lexer": "ipython3",
   "version": "3.5.6"
  },
  "toc": {
   "base_numbering": 1,
   "nav_menu": {},
   "number_sections": true,
   "sideBar": true,
   "skip_h1_title": false,
   "title_cell": "Table of Contents",
   "title_sidebar": "Contents",
   "toc_cell": true,
   "toc_position": {},
   "toc_section_display": true,
   "toc_window_display": true
  }
 },
 "nbformat": 4,
 "nbformat_minor": 2
}
